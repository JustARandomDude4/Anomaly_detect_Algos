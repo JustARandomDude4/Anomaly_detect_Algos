{
  "nbformat": 4,
  "nbformat_minor": 0,
  "metadata": {
    "colab": {
      "provenance": [],
      "authorship_tag": "ABX9TyMIVUPrttiDBTXW8Z1CdH5b",
      "include_colab_link": true
    },
    "kernelspec": {
      "name": "python3",
      "display_name": "Python 3"
    },
    "language_info": {
      "name": "python"
    }
  },
  "cells": [
    {
      "cell_type": "markdown",
      "metadata": {
        "id": "view-in-github",
        "colab_type": "text"
      },
      "source": [
        "<a href=\"https://colab.research.google.com/github/JustARandomDude4/Anomaly_detect_Algos/blob/master/Anomaly_2/anomaly_detection_in_repos.ipynb\" target=\"_parent\"><img src=\"https://colab.research.google.com/assets/colab-badge.svg\" alt=\"Open In Colab\"/></a>"
      ]
    },
    {
      "cell_type": "code",
      "source": [],
      "metadata": {
        "id": "Xbq-vGWkLQKF"
      },
      "execution_count": null,
      "outputs": []
    },
    {
      "cell_type": "code",
      "source": [
        "import pandas as pd\n",
        "import numpy as np\n",
        "from sklearn.ensemble import IsolationForest\n",
        "\n",
        "# Load data\n",
        "df = pd.read_csv('exampleproject_commits.csv')\n",
        "\n",
        "# Data preprocessing\n",
        "df['commit_date'] = pd.to_datetime(df['commit_date'])\n",
        "df['week_day'] = df['commit_date'].dt.weekday\n",
        "df['hour'] = df['commit_date'].dt.hour\n",
        "df['is_external'] = df['contributor_org'] != 'ExampleProject'\n",
        "\n",
        "# Feature engineering\n",
        "weekly_commits = df.groupby(['contributor_id', pd.Grouper(key='commit_date', freq='W-MON')]).size().reset_index(name='commits')\n",
        "avg_weekly_commits = weekly_commits.groupby('contributor_id')['commits'].mean().reset_index(name='avg_commits')\n",
        "df = pd.merge(df, avg_weekly_commits, on='contributor_id')\n",
        "df['commits_diff'] = df['commits'] - df['avg_commits']\n",
        "\n",
        "# Model training\n",
        "model = IsolationForest(n_estimators=100, contamination=0.05, random_state=42)\n",
        "X = df[['week_day', 'hour', 'is_external', 'commits_diff']]\n",
        "model.fit(X)\n",
        "\n",
        "# Prediction\n",
        "y_pred = model.predict(X)\n",
        "\n",
        "# Results\n",
        "df['anomaly'] = y_pred\n",
        "anomalies = df[df['anomaly'] == -1]\n",
        "num_anomalies = len(anomalies)\n",
        "print(f'Number of anomalies detected: {num_anomalies}')\n",
        "if num_anomalies > 0:\n",
        "    print('Details of anomalies:')\n",
        "    print(anomalies[['contributor_id', 'commit_id', 'commit_date', 'anomaly']])\n"
      ],
      "metadata": {
        "colab": {
          "base_uri": "https://localhost:8080/"
        },
        "id": "EhPpCZQbLVHL",
        "outputId": "75992e67-98fc-4459-a7d5-329b7e780fdd"
      },
      "execution_count": 14,
      "outputs": [
        {
          "output_type": "stream",
          "name": "stdout",
          "text": [
            "Number of anomalies detected: 10\n",
            "Details of anomalies:\n",
            "     contributor_id  commit_id         commit_date  anomaly\n",
            "6                 2          7 2022-01-04 18:00:00       -1\n",
            "51               11         52 2022-01-04 18:00:00       -1\n",
            "66               14         67 2022-01-04 18:00:00       -1\n",
            "91               19         92 2022-01-04 18:00:00       -1\n",
            "102              21        103 2022-01-08 12:00:00       -1\n",
            "128              26        129 2022-01-12 06:00:00       -1\n",
            "144              29        145 2022-01-16 00:00:00       -1\n",
            "179              36        180 2022-01-16 00:00:00       -1\n",
            "184              37        185 2022-01-16 00:00:00       -1\n",
            "191              39        192 2022-01-04 18:00:00       -1\n"
          ]
        },
        {
          "output_type": "stream",
          "name": "stderr",
          "text": [
            "/usr/local/lib/python3.9/dist-packages/sklearn/base.py:439: UserWarning: X does not have valid feature names, but IsolationForest was fitted with feature names\n",
            "  warnings.warn(\n"
          ]
        }
      ]
    },
    {
      "cell_type": "markdown",
      "source": [],
      "metadata": {
        "id": "hXvRKI4IIRVB"
      }
    }
  ]
}