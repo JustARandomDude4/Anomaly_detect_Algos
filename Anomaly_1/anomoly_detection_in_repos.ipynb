{
  "nbformat": 4,
  "nbformat_minor": 0,
  "metadata": {
    "colab": {
      "provenance": [],
      "authorship_tag": "ABX9TyMrdW+gtJbuVhF71JUmYGNK",
      "include_colab_link": true
    },
    "kernelspec": {
      "name": "python3",
      "display_name": "Python 3"
    },
    "language_info": {
      "name": "python"
    }
  },
  "cells": [
    {
      "cell_type": "markdown",
      "metadata": {
        "id": "view-in-github",
        "colab_type": "text"
      },
      "source": [
        "<a href=\"https://colab.research.google.com/github/JustARandomDude4/Anomaly_detect_Algos/blob/master/Anomaly_1/anomoly_detection_in_repos.ipynb\" target=\"_parent\"><img src=\"https://colab.research.google.com/assets/colab-badge.svg\" alt=\"Open In Colab\"/></a>"
      ]
    },
    {
      "cell_type": "code",
      "execution_count": 5,
      "metadata": {
        "colab": {
          "base_uri": "https://localhost:8080/"
        },
        "id": "18SBXtHSH-FR",
        "outputId": "ff2ca500-f819-417d-92e8-6798700c245b"
      },
      "outputs": [
        {
          "output_type": "stream",
          "name": "stdout",
          "text": [
            "Anomalies detected: 5\n",
            "Total contributor activity records: 10\n",
            "Anomaly rate: 50.0%\n"
          ]
        }
      ],
      "source": [
        "import pandas as pd\n",
        "from sklearn.ensemble import IsolationForest\n",
        "from sklearn.preprocessing import StandardScaler\n",
        "\n",
        "# load data and preprocess\n",
        "data = pd.read_csv(\"contributor_activity.csv\")\n",
        "data['timestamp'] = pd.to_datetime(data['timestamp'])\n",
        "data = data.sort_values(by=['user_id', 'timestamp'])\n",
        "data['time_diff'] = data.groupby('user_id')['timestamp'].diff().dt.seconds.fillna(0)\n",
        "data['commit_diff'] = data.groupby('user_id')['commit_count'].diff().fillna(0)\n",
        "\n",
        "# set threshold values for anomaly detection\n",
        "time_diff_threshold = 3600  # 1 hour\n",
        "commit_diff_threshold = 10  # 10 commits\n",
        "added_code_threshold = 0.1  # 10% added code difference\n",
        "\n",
        "# standardize and fit data to Isolation Forest model\n",
        "scaler = StandardScaler()\n",
        "X = scaler.fit_transform(data[['time_diff', 'commit_diff', 'added_code_diff']])\n",
        "model = IsolationForest(n_estimators=100, max_samples='auto', contamination='auto')\n",
        "model.fit(X)\n",
        "\n",
        "# predict anomalies\n",
        "data['anomaly'] = model.predict(X)\n",
        "data['anomaly'] = [1 if x == -1 else 0 for x in data['anomaly']]\n",
        "\n",
        "# check for additional anomalies\n",
        "for user in data['user_id'].unique():\n",
        "    user_data = data[data['user_id'] == user]\n",
        "    user_mean_commit_count = user_data['commit_count'].mean()\n",
        "    user_std_commit_count = user_data['commit_count'].std()\n",
        "    user_mean_time_diff = user_data['time_diff'].mean()\n",
        "    user_std_time_diff = user_data['time_diff'].std()\n",
        "    user_mean_added_code_diff = user_data['added_code_diff'].mean()\n",
        "    \n",
        "    for i in range(len(user_data)):\n",
        "        if abs(user_data.iloc[i]['commit_count'] - user_mean_commit_count) > user_std_commit_count * commit_diff_threshold:\n",
        "            data.loc[user_data.index[i], 'anomaly'] = 1\n",
        "        if abs(user_data.iloc[i]['time_diff'] - user_mean_time_diff) > user_std_time_diff * time_diff_threshold:\n",
        "            data.loc[user_data.index[i], 'anomaly'] = 1\n",
        "        if user_data.iloc[i]['added_code_diff'] > added_code_threshold:\n",
        "            data.loc[user_data.index[i], 'anomaly'] = 1\n",
        "\n",
        "# output the results in measurable format\n",
        "anomaly_count = len(data[data['anomaly'] == 1])\n",
        "total_count = len(data)\n",
        "anomaly_rate = round((anomaly_count/total_count)*100, 2)\n",
        "\n",
        "print(f\"Anomalies detected: {anomaly_count}\")\n",
        "print(f\"Total contributor activity records: {total_count}\")\n",
        "print(f\"Anomaly rate: {anomaly_rate}%\")\n"
      ]
    },
    {
      "cell_type": "code",
      "source": [],
      "metadata": {
        "id": "Xbq-vGWkLQKF"
      },
      "execution_count": null,
      "outputs": []
    },
    {
      "cell_type": "code",
      "source": [],
      "metadata": {
        "id": "EhPpCZQbLVHL"
      },
      "execution_count": null,
      "outputs": []
    },
    {
      "cell_type": "markdown",
      "source": [],
      "metadata": {
        "id": "hXvRKI4IIRVB"
      }
    }
  ]
}